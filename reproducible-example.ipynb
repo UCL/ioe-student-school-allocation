{
 "cells": [
  {
   "cell_type": "code",
   "execution_count": 38,
   "id": "9e4b1613-1d19-4a43-bcdd-c8893be306fd",
   "metadata": {
    "tags": []
   },
   "outputs": [],
   "source": [
    "# 1. import packages\n",
    "\n",
    "import pandas as pd\n",
    "import numpy as np\n",
    "from pulp import *"
   ]
  },
  {
   "cell_type": "code",
   "execution_count": 39,
   "id": "65b9997a-00b2-451d-9e28-e41260c96b14",
   "metadata": {
    "tags": []
   },
   "outputs": [],
   "source": [
    "# import data\n",
    "students_df = pd.read_csv('data/example_subject_students.csv')\n",
    "schools_df = pd.read_csv('data/example_subject_schools.csv')\n"
   ]
  },
  {
   "cell_type": "code",
   "execution_count": 40,
   "id": "63eaff5b-897d-412b-9bed-ca06c523aa9b",
   "metadata": {
    "tags": []
   },
   "outputs": [],
   "source": [
    "# do pre-processing\n",
    "# from https://github.com/UCL/ioe-student-school-allocation\n",
    "# install using pip install -e .\n",
    "# version pip-23.1.2 or greater needed\n",
    "# you will also need to add a TFL API key, available from https://api-portal.tfl.gov.uk/\n",
    "# it is set in .envrc_sample export TFL_APP_KEY=\n",
    "#What you should do is cp .envrc_sample .envrc. Then put in the key. Then run source .envrc. Then re-run.\n",
    "#You can check if it’s worked by running echo $TFL_APP_KEY.\n",
    "#and export N_CORES=1\n",
    "\n",
    "# took about 25 min on 1 core for 10 student, 70 schools, 3 failures\n",
    "# took about 14 min on 4 cores for 20 students, 70 schools\n",
    "# took about 12 min on 8 cores for 20 students, 70 schools, 10 failures\n",
    "# you will need to delete example_subject_student_school_journeys.csv and example_subject_student_school_failures.csv because it won't overwrite files automatically\n",
    "\n",
    "\n",
    "#tfl data example_subject\n",
    "\n",
    "# it is recommened you use the provided data example_subject_student_school_journeys.csv for this example\n"
   ]
  },
  {
   "cell_type": "code",
   "execution_count": 41,
   "id": "b8483ea4-2d5c-4129-a87f-82378875f59d",
   "metadata": {
    "tags": []
   },
   "outputs": [],
   "source": [
    "# read in sample data\n",
    "example_subject_time = pd.read_csv('data/example_subject_student_school_journeys.csv')"
   ]
  },
  {
   "cell_type": "code",
   "execution_count": 42,
   "id": "56f2a9e3-d517-43ea-88ed-f2d7a014863c",
   "metadata": {
    "tags": []
   },
   "outputs": [],
   "source": [
    "# create pivot table from data\n",
    "example_subject_time_table = (\n",
    "    example_subject_time.pivot_table(\n",
    "        columns=\"school\",\n",
    "        fill_value=10000,\n",
    "        index=\"student\",\n",
    "        sort=False,\n",
    "        values=\"time\",\n",
    "    )\n",
    "    .astype(int)\n",
    "    .values\n",
    ")"
   ]
  },
  {
   "cell_type": "code",
   "execution_count": 43,
   "id": "37c4eb89-baba-4f82-b924-5725b210f45d",
   "metadata": {
    "tags": []
   },
   "outputs": [],
   "source": [
    "# 2. clean data for the model\n",
    "\n",
    "# define the function to clean school and student dataframe\n",
    "# to only keep the students and schools which have successful journeys\n",
    "def data_clean(df, id_col, time_col, time):\n",
    "    ids_to_remove = set(df[id_col]) - set(time[time_col].unique())\n",
    "    mask = ~df[id_col].isin(ids_to_remove)\n",
    "    df_clean = df[mask].reset_index().drop('index', axis=1)\n",
    "    return df_clean\n",
    "\n",
    "schools_df_clean = data_clean(schools_df,'SE2 PP: Code','school',example_subject_time)\n",
    "students_df_clean = data_clean(students_df,'ST: ID','student',example_subject_time)"
   ]
  },
  {
   "cell_type": "code",
   "execution_count": 44,
   "id": "9b94ead3-f805-41d9-bd1a-6ba56f6ca59d",
   "metadata": {
    "tags": []
   },
   "outputs": [],
   "source": [
    "# check if data is okay\n",
    "assert len(schools_df_clean) == len(example_subject_time_table[0])\n",
    "assert len(students_df_clean) == len(example_subject_time_table)"
   ]
  },
  {
   "cell_type": "code",
   "execution_count": 45,
   "id": "ab55db25-9e4f-4a3f-afae-6c71b09107d9",
   "metadata": {
    "tags": []
   },
   "outputs": [],
   "source": [
    "# use spopt code\n",
    "# Remember currently we need to use the version with the developments Rongbo has included\n",
    "# it has not been included in the main spopt package yet\n",
    "# To install the package you can do: `python3 -m pip install spopt@git+https://github.com/rongboxu/spopt`."
   ]
  },
  {
   "cell_type": "code",
   "execution_count": 46,
   "id": "50830fda-e147-4179-9c5b-30497c63617d",
   "metadata": {
    "tags": []
   },
   "outputs": [
    {
     "name": "stdout",
     "output_type": "stream",
     "text": [
      "0+untagged.952.g67aaaff\n"
     ]
    }
   ],
   "source": [
    "# if the version of spopt is 0.5.0 this is not the correct version\n",
    "# the version should be 0+untagged.952.g67aaaff or similar\n",
    "import spopt\n",
    "print(spopt.__version__)"
   ]
  },
  {
   "cell_type": "code",
   "execution_count": 47,
   "id": "12d23f54-5fe3-4011-af40-5a2ea424b7a2",
   "metadata": {
    "tags": []
   },
   "outputs": [],
   "source": [
    "from spopt.locate import PMedian"
   ]
  },
  {
   "cell_type": "code",
   "execution_count": 48,
   "id": "4cec0075-19b6-41e2-a139-a06f704259e5",
   "metadata": {
    "tags": []
   },
   "outputs": [],
   "source": [
    "# data preparing\n",
    "\n",
    "# a. set the amount of each demand point: in IOE case, it is 1.\n",
    "demand = np.ones(len(students_df_clean))\n",
    "\n",
    "# b. pick out predefined facilities: priority 1 schools\n",
    "# please notice that the column name of priority can vary, for math it's 'MAT priority' etc.\n",
    "schools_priority_1 = schools_df_clean[schools_df_clean['MAT priority'] == 1].index.tolist()\n",
    "schools_priority_1_arr = np.array(schools_priority_1)\n",
    "\n",
    "# c. set the facility capacities\n",
    "capacities_arr = np.array(schools_df_clean['Count'])"
   ]
  },
  {
   "cell_type": "code",
   "execution_count": 49,
   "id": "7293dad7-39e1-45b5-8714-564d970af781",
   "metadata": {
    "tags": []
   },
   "outputs": [
    {
     "ename": "SpecificationError",
     "evalue": "\n                        Problem is infeasible. The predefined facilities can't be \n                        fulfilled, because their capacity is larger than the total \n                        demand 19.0.\n                        ",
     "output_type": "error",
     "traceback": [
      "\u001b[0;31m---------------------------------------------------------------------------\u001b[0m",
      "\u001b[0;31mSpecificationError\u001b[0m                        Traceback (most recent call last)",
      "Cell \u001b[0;32mIn[49], line 4\u001b[0m\n\u001b[1;32m      1\u001b[0m \u001b[38;5;66;03m# run the model\u001b[39;00m\n\u001b[1;32m      2\u001b[0m \n\u001b[1;32m      3\u001b[0m \u001b[38;5;66;03m# the fulfill_predefined_fac must be true, it is used to gurantee priority 1 schools will be fulfilled\u001b[39;00m\n\u001b[0;32m----> 4\u001b[0m pmedian_from_cost_matrix \u001b[38;5;241m=\u001b[39m \u001b[43mPMedian\u001b[49m\u001b[38;5;241;43m.\u001b[39;49m\u001b[43mfrom_cost_matrix\u001b[49m\u001b[43m(\u001b[49m\u001b[43mexample_subject_time_table\u001b[49m\u001b[43m,\u001b[49m\u001b[43mdemand\u001b[49m\u001b[43m,\u001b[49m\u001b[43m \u001b[49m\u001b[43mp_facilities\u001b[49m\u001b[38;5;241;43m=\u001b[39;49m\u001b[38;5;28;43mlen\u001b[39;49m\u001b[43m(\u001b[49m\u001b[43mstudents_df_clean\u001b[49m\u001b[43m)\u001b[49m\u001b[43m,\u001b[49m\u001b[43m \u001b[49m\u001b[43mpredefined_facilities_arr\u001b[49m\u001b[43m \u001b[49m\u001b[38;5;241;43m=\u001b[39;49m\u001b[43m \u001b[49m\u001b[43mschools_priority_1_arr\u001b[49m\u001b[43m,\u001b[49m\u001b[43m \u001b[49m\u001b[43mfacility_capacities\u001b[49m\u001b[43m \u001b[49m\u001b[38;5;241;43m=\u001b[39;49m\u001b[43m \u001b[49m\u001b[43mcapacities_arr\u001b[49m\u001b[43m,\u001b[49m\u001b[43m \u001b[49m\u001b[43mfulfill_predefined_fac\u001b[49m\u001b[43m \u001b[49m\u001b[38;5;241;43m=\u001b[39;49m\u001b[43m \u001b[49m\u001b[38;5;28;43;01mTrue\u001b[39;49;00m\u001b[43m)\u001b[49m\n\u001b[1;32m      6\u001b[0m \u001b[38;5;66;03m# if you get this error:\u001b[39;00m\n\u001b[1;32m      7\u001b[0m \u001b[38;5;66;03m# Problem is infeasible. The predefined facilities can't be \u001b[39;00m\n\u001b[1;32m      8\u001b[0m \u001b[38;5;66;03m# fulfilled, because their capacity is larger than the total \u001b[39;00m\n\u001b[1;32m      9\u001b[0m \u001b[38;5;66;03m# demand 10.0.\u001b[39;00m\n\u001b[1;32m     10\u001b[0m \u001b[38;5;66;03m# This is because you have more priority schools (priority = 1) than you do students who need placements. You need more schools, or fewer students. \u001b[39;00m\n",
      "File \u001b[0;32m/opt/conda/lib/python3.10/site-packages/spopt/locate/p_median.py:264\u001b[0m, in \u001b[0;36mPMedian.from_cost_matrix\u001b[0;34m(cls, cost_matrix, weights, p_facilities, predefined_facilities_arr, facility_capacities, fulfill_predefined_fac, name)\u001b[0m\n\u001b[1;32m    260\u001b[0m         FacilityModelBuilder\u001b[38;5;241m.\u001b[39madd_predefined_facility_constraint(\n\u001b[1;32m    261\u001b[0m             p_median, predefined_facilities_arr,facility_capacities\n\u001b[1;32m    262\u001b[0m         )\n\u001b[1;32m    263\u001b[0m     \u001b[38;5;28;01melse\u001b[39;00m:\n\u001b[0;32m--> 264\u001b[0m         \u001b[38;5;28;01mraise\u001b[39;00m SpecificationError(\u001b[38;5;124mf\u001b[39m\u001b[38;5;124m\"\"\"\u001b[39m\n\u001b[1;32m    265\u001b[0m \u001b[38;5;124m            Problem is infeasible. The predefined facilities can\u001b[39m\u001b[38;5;124m'\u001b[39m\u001b[38;5;124mt be \u001b[39m\n\u001b[1;32m    266\u001b[0m \u001b[38;5;124m            fulfilled, because their capacity is larger than the total \u001b[39m\n\u001b[1;32m    267\u001b[0m \u001b[38;5;124m            demand \u001b[39m\u001b[38;5;132;01m{\u001b[39;00mweights\u001b[38;5;241m.\u001b[39msum()\u001b[38;5;132;01m}\u001b[39;00m\u001b[38;5;124m.\u001b[39m\n\u001b[1;32m    268\u001b[0m \u001b[38;5;124m            \u001b[39m\u001b[38;5;124m\"\"\"\u001b[39m\n\u001b[1;32m    269\u001b[0m             )\n\u001b[1;32m    270\u001b[0m \u001b[38;5;28;01melse\u001b[39;00m:\n\u001b[1;32m    271\u001b[0m     FacilityModelBuilder\u001b[38;5;241m.\u001b[39madd_predefined_facility_constraint(\n\u001b[1;32m    272\u001b[0m         p_median, predefined_facilities_arr\n\u001b[1;32m    273\u001b[0m     )\n",
      "\u001b[0;31mSpecificationError\u001b[0m: \n                        Problem is infeasible. The predefined facilities can't be \n                        fulfilled, because their capacity is larger than the total \n                        demand 19.0.\n                        "
     ]
    }
   ],
   "source": [
    "# run the model\n",
    "\n",
    "# the fulfill_predefined_fac must be true, it is used to gurantee priority 1 schools will be fulfilled\n",
    "pmedian_from_cost_matrix = PMedian.from_cost_matrix(example_subject_time_table,demand, p_facilities=len(students_df_clean), predefined_facilities_arr = schools_priority_1_arr, facility_capacities = capacities_arr, fulfill_predefined_fac = True)\n",
    "\n",
    "# if you get this error:\n",
    "# Problem is infeasible. The predefined facilities can't be \n",
    "# fulfilled, because their capacity is larger than the total \n",
    "# demand 10.0.\n",
    "# This is because you have more priority schools (priority = 1 or 2? need to check) than you do students who need placements. You need more schools, or fewer students. \n",
    "                        \n"
   ]
  },
  {
   "cell_type": "code",
   "execution_count": 14,
   "id": "e1f4bcd9-4b84-406e-bebc-2a653f140d7a",
   "metadata": {
    "tags": []
   },
   "outputs": [
    {
     "ename": "NameError",
     "evalue": "name 'pmedian_from_cost_matrix' is not defined",
     "output_type": "error",
     "traceback": [
      "\u001b[0;31m---------------------------------------------------------------------------\u001b[0m",
      "\u001b[0;31mNameError\u001b[0m                                 Traceback (most recent call last)",
      "Cell \u001b[0;32mIn[14], line 1\u001b[0m\n\u001b[0;32m----> 1\u001b[0m pmedian_from_cost_matrix \u001b[38;5;241m=\u001b[39m \u001b[43mpmedian_from_cost_matrix\u001b[49m\u001b[38;5;241m.\u001b[39msolve(pulp\u001b[38;5;241m.\u001b[39mPULP_CBC_CMD(msg\u001b[38;5;241m=\u001b[39m\u001b[38;5;28;01mFalse\u001b[39;00m))\n",
      "\u001b[0;31mNameError\u001b[0m: name 'pmedian_from_cost_matrix' is not defined"
     ]
    }
   ],
   "source": [
    "pmedian_from_cost_matrix = pmedian_from_cost_matrix.solve(pulp.PULP_CBC_CMD(msg=False))"
   ]
  },
  {
   "cell_type": "code",
   "execution_count": 1,
   "id": "8eff83af-3135-4e27-9d01-0fdd449b2625",
   "metadata": {
    "tags": []
   },
   "outputs": [
    {
     "name": "stderr",
     "output_type": "stream",
     "text": [
      "/opt/conda/lib/python3.10/site-packages/spopt/locate/coverage.py:4: UserWarning: Shapely 2.0 is installed, but because PyGEOS is also installed, GeoPandas will still use PyGEOS by default for now. To force to use and test Shapely 2.0, you have to set the environment variable USE_PYGEOS=0. You can do this before starting the Python process, or in your code before importing geopandas:\n",
      "\n",
      "import os\n",
      "os.environ['USE_PYGEOS'] = '0'\n",
      "import geopandas\n",
      "\n",
      "In a future release, GeoPandas will switch to using Shapely by default. If you are using PyGEOS directly (calling PyGEOS functions on geometries from GeoPandas), this will then stop working and you are encouraged to migrate from PyGEOS to Shapely 2.0 (https://shapely.readthedocs.io/en/latest/migration_pygeos.html).\n",
      "  from geopandas import GeoDataFrame\n"
     ]
    },
    {
     "name": "stdout",
     "output_type": "stream",
     "text": [
      "0+untagged.952.g67aaaff\n"
     ]
    }
   ],
   "source": [
    "import spopt\n",
    "print(spopt.__version__)"
   ]
  },
  {
   "cell_type": "code",
   "execution_count": null,
   "id": "569d3341-2769-4141-a1d5-8b78e4016497",
   "metadata": {},
   "outputs": [],
   "source": []
  }
 ],
 "metadata": {
  "kernelspec": {
   "display_name": "Python 3 (ipykernel)",
   "language": "python",
   "name": "python3"
  },
  "language_info": {
   "codemirror_mode": {
    "name": "ipython",
    "version": 3
   },
   "file_extension": ".py",
   "mimetype": "text/x-python",
   "name": "python",
   "nbconvert_exporter": "python",
   "pygments_lexer": "ipython3",
   "version": "3.10.10"
  }
 },
 "nbformat": 4,
 "nbformat_minor": 5
}
