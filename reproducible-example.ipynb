{
 "cells": [
  {
   "cell_type": "code",
   "execution_count": 1,
   "id": "9e4b1613-1d19-4a43-bcdd-c8893be306fd",
   "metadata": {
    "tags": []
   },
   "outputs": [],
   "source": [
    "# 1. import packages\n",
    "\n",
    "import pandas as pd\n",
    "import numpy as np\n",
    "#from pulp import *\n",
    "import pulp"
   ]
  },
  {
   "cell_type": "code",
   "execution_count": 2,
   "id": "65b9997a-00b2-451d-9e28-e41260c96b14",
   "metadata": {
    "tags": []
   },
   "outputs": [],
   "source": [
    "# import data\n",
    "students_df = pd.read_csv('data/example_subject_students.csv')\n",
    "schools_df = pd.read_csv('data/example_subject_schools.csv')\n"
   ]
  },
  {
   "cell_type": "code",
   "execution_count": null,
   "id": "63eaff5b-897d-412b-9bed-ca06c523aa9b",
   "metadata": {
    "tags": []
   },
   "outputs": [],
   "source": [
    "# do pre-processing\n",
    "# from https://github.com/UCL/ioe-student-school-allocation\n",
    "# install using pip install -e .\n",
    "# version pip-23.1.2 or greater needed\n",
    "# upgrade pip using\n",
    "# pip install --upgrade pip\n",
    "\n",
    "# you will also need to add a TFL API key, available from https://api-portal.tfl.gov.uk/\n",
    "# it is set in .envrc_sample export TFL_APP_KEY=\n",
    "#What you should do is cp .envrc_sample .envrc. Then put in the key. Then run source .envrc. Then re-run.\n",
    "#You can check if it’s worked by running echo $TFL_APP_KEY.\n",
    "#and export N_CORES=1\n",
    "# you will need to delete example_subject_student_school_journeys.csv and example_subject_student_school_failures.csv because it won't overwrite files automatically\n",
    "\n",
    "# run using\n",
    "#tfl data example_subject\n",
    "\n",
    "# took about 25 min on 1 core for 10 student, 70 schools, 3 failures\n",
    "# took about 14 min on 4 cores for 20 students, 70 schools\n",
    "# took about 12 min on 8 cores for 20 students, 70 schools, 10 failures\n",
    "# took about 6 min on 16 cores for 19 students, 70 schools, 2 failures\n",
    "\n",
    "# it is recommened you use the provided data example_subject_student_school_journeys.csv for this example\n"
   ]
  },
  {
   "cell_type": "code",
   "execution_count": 3,
   "id": "b8483ea4-2d5c-4129-a87f-82378875f59d",
   "metadata": {
    "tags": []
   },
   "outputs": [],
   "source": [
    "# read in sample data\n",
    "example_subject_time = pd.read_csv('data/example_subject_student_school_journeys.csv')"
   ]
  },
  {
   "cell_type": "code",
   "execution_count": 4,
   "id": "56f2a9e3-d517-43ea-88ed-f2d7a014863c",
   "metadata": {
    "tags": []
   },
   "outputs": [],
   "source": [
    "# create pivot table from data\n",
    "example_subject_time_table = (\n",
    "    example_subject_time.pivot_table(\n",
    "        columns=\"school\",\n",
    "        fill_value=10000,\n",
    "        index=\"student\",\n",
    "        sort=False,\n",
    "        values=\"time\",\n",
    "    )\n",
    "    .astype(int)\n",
    "    .values\n",
    ")"
   ]
  },
  {
   "cell_type": "code",
   "execution_count": 5,
   "id": "37c4eb89-baba-4f82-b924-5725b210f45d",
   "metadata": {
    "tags": []
   },
   "outputs": [],
   "source": [
    "# 2. clean data for the model\n",
    "\n",
    "# define the function to clean school and student dataframe\n",
    "# to only keep the students and schools which have successful journeys\n",
    "def data_clean(df, id_col, time_col, time):\n",
    "    ids_to_remove = set(df[id_col]) - set(time[time_col].unique())\n",
    "    mask = ~df[id_col].isin(ids_to_remove)\n",
    "    df_clean = df[mask].reset_index().drop('index', axis=1)\n",
    "    return df_clean\n",
    "\n",
    "schools_df_clean = data_clean(schools_df,'SE2 PP: Code','school',example_subject_time)\n",
    "students_df_clean = data_clean(students_df,'ST: ID','student',example_subject_time)"
   ]
  },
  {
   "cell_type": "code",
   "execution_count": 6,
   "id": "9b94ead3-f805-41d9-bd1a-6ba56f6ca59d",
   "metadata": {
    "tags": []
   },
   "outputs": [],
   "source": [
    "# check if data is okay\n",
    "assert len(schools_df_clean) == len(example_subject_time_table[0])\n",
    "assert len(students_df_clean) == len(example_subject_time_table)"
   ]
  },
  {
   "cell_type": "code",
   "execution_count": null,
   "id": "ab55db25-9e4f-4a3f-afae-6c71b09107d9",
   "metadata": {
    "tags": []
   },
   "outputs": [],
   "source": [
    "# use spopt code\n",
    "# Remember currently we need to use the version with the developments Rongbo has included\n",
    "# it has not been included in the main spopt package yet\n",
    "# To install the package you can do: `python3 -m pip install spopt@git+https://github.com/rongboxu/spopt`.\n",
    "# If you are running this a Juypter notebook, remember to run this in the terminal inside the correct environemnt / notebook enviromnent / docker image and restart the kernal"
   ]
  },
  {
   "cell_type": "code",
   "execution_count": 7,
   "id": "50830fda-e147-4179-9c5b-30497c63617d",
   "metadata": {
    "tags": []
   },
   "outputs": [
    {
     "name": "stderr",
     "output_type": "stream",
     "text": [
      "/opt/anaconda3/lib/python3.8/site-packages/geopandas/_compat.py:124: UserWarning: The Shapely GEOS version (3.8.0-CAPI-1.13.1) is incompatible with the GEOS version PyGEOS was compiled with (3.10.1-CAPI-1.16.0). Conversions between both will be slow.\n",
      "  warnings.warn(\n"
     ]
    },
    {
     "name": "stdout",
     "output_type": "stream",
     "text": [
      "0.5.0\n"
     ]
    }
   ],
   "source": [
    "# if the version of spopt is 0.5.0 this is not the correct version\n",
    "# the version should be 0+untagged.952.g67aaaff or similar\n",
    "import spopt\n",
    "print(spopt.__version__)"
   ]
  },
  {
   "cell_type": "code",
   "execution_count": 8,
   "id": "12d23f54-5fe3-4011-af40-5a2ea424b7a2",
   "metadata": {
    "tags": []
   },
   "outputs": [],
   "source": [
    "from spopt.locate import PMedian"
   ]
  },
  {
   "cell_type": "code",
   "execution_count": 9,
   "id": "4cec0075-19b6-41e2-a139-a06f704259e5",
   "metadata": {
    "tags": []
   },
   "outputs": [],
   "source": [
    "# data preparing\n",
    "\n",
    "# a. set the amount of each demand point: in IOE case, it is 1.\n",
    "demand = np.ones(len(students_df_clean))\n",
    "\n",
    "# b. pick out predefined facilities: priority 1 schools\n",
    "# please notice that the column name of priority can vary, for math it's 'MAT priority' etc.\n",
    "schools_priority_1 = schools_df_clean[schools_df_clean['MAT priority'] == 1].index.tolist()\n",
    "schools_priority_1_arr = np.array(schools_priority_1)\n",
    "\n",
    "# c. set the facility capacities\n",
    "capacities_arr = np.array(schools_df_clean['Count'])"
   ]
  },
  {
   "cell_type": "code",
   "execution_count": 11,
   "id": "4dc450d0-ea6a-4c80-9c8a-075940bf9851",
   "metadata": {
    "tags": []
   },
   "outputs": [],
   "source": [
    "# run the model\n",
    "\n",
    "\n",
    "# if you get this error:\n",
    "# Problem is infeasible. The predefined facilities can't be \n",
    "# fulfilled, because their capacity is larger than the total \n",
    "# demand 10.0.\n",
    "# This is because you have more priority schools (priority = 1 or 2? need to check) than you do students who need placements. You need more schools, or fewer students. \n",
    "                        \n",
    "# the fulfill_predefined_fac must be true, it is used to gurantee priority 1 schools will be fulfilled\n",
    "solver = pulp.PULP_CBC_CMD()\n",
    "pmedian_from_cost_matrix = PMedian.from_cost_matrix(\n",
    "\texample_subject_time_table,\n",
    "\tdemand, \n",
    "\tp_facilities=len(students_df_clean), \n",
    "\tpredefined_facilities_arr = schools_priority_1_arr, \n",
    "\tfacility_capacities = capacities_arr, \n",
    "\tfulfill_predefined_fac = True\n",
    ")\n",
    "pmedian_from_cost_matrix = pmedian_from_cost_matrix.solve(solver)"
   ]
  },
  {
   "cell_type": "code",
   "execution_count": 13,
   "id": "21283b43-404f-4170-9086-b8867225ba9b",
   "metadata": {},
   "outputs": [],
   "source": [
    "# save the match result\n",
    "\n",
    "match_df = students_df_clean\n",
    "\n",
    "for i in range(len(students_df_clean)):\n",
    "    school_index = pmedian_from_cost_matrix.cli2fac[i]\n",
    "    match_df.loc[i, 'allocation_school_id'] = schools_df_clean.loc[school_index[0], 'SE2 PP: Code']"
   ]
  },
  {
   "cell_type": "code",
   "execution_count": 49,
   "id": "b92f10f0",
   "metadata": {},
   "outputs": [],
   "source": [
    "# match_df.to_csv('./data/example_subject_matches.csv')"
   ]
  },
  {
   "cell_type": "code",
   "execution_count": 55,
   "id": "8eb085f1",
   "metadata": {},
   "outputs": [],
   "source": [
    "# run the map creation py document\n",
    "# the html file of the map will appear in the 'plot' folder\n",
    "# I have run once, so both the match file and map html has already existed\n",
    "!python scripts/create_allocation_map.py \"example_subject\""
   ]
  }
 ],
 "metadata": {
  "interpreter": {
   "hash": "40d3a090f54c6569ab1632332b64b2c03c39dcf918b08424e98f38b5ae0af88f"
  },
  "kernelspec": {
   "display_name": "Python 3.8.3 ('base')",
   "language": "python",
   "name": "python3"
  },
  "language_info": {
   "codemirror_mode": {
    "name": "ipython",
    "version": 3
   },
   "file_extension": ".py",
   "mimetype": "text/x-python",
   "name": "python",
   "nbconvert_exporter": "python",
   "pygments_lexer": "ipython3",
   "version": "3.8.3"
  }
 },
 "nbformat": 4,
 "nbformat_minor": 5
}
