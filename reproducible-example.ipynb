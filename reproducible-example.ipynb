{
 "cells": [
  {
   "cell_type": "markdown",
   "id": "c1e11ab3-6715-420d-a7fd-206f423f6fa6",
   "metadata": {},
   "source": [
    "## Demonstrating a capacitated p-median location-allocation model"
   ]
  },
  {
   "cell_type": "markdown",
   "id": "dea145c9-e38c-4610-a67b-e4befa633468",
   "metadata": {},
   "source": [
    "This is a Juypter Notebook demonstrating the newly developled capacitated p-median location-allocation model using sample data from UCL IOE for teacher student placements as school. For more details on the background, please see associated [paper](agile-short-paper/short-paper.pdf) presented at AGILE 2023. "
   ]
  },
  {
   "cell_type": "markdown",
   "id": "ce2591f3-2f59-41e6-957b-5d4d0c597615",
   "metadata": {},
   "source": [
    "Demonstration input and output data have been provided. See information below for more detais. "
   ]
  },
  {
   "cell_type": "markdown",
   "id": "06b7624d-27c4-4bab-913d-ecbf72502cde",
   "metadata": {},
   "source": [
    "### Install code to bring in dependencies"
   ]
  },
  {
   "cell_type": "markdown",
   "id": "cee7aed5-8b50-461e-9d90-15f59cdd48d2",
   "metadata": {},
   "source": [
    "Run `python -m pip install -e .` in a terminal to install dependicies. \n",
    "f you are running this a Juypter notebook, remember to run this in the terminal inside the correct environemnt / notebook, and then restart the Kernel."
   ]
  },
  {
   "cell_type": "markdown",
   "id": "109a941f",
   "metadata": {},
   "source": [
    "### Import packages"
   ]
  },
  {
   "cell_type": "code",
   "execution_count": null,
   "id": "9e4b1613-1d19-4a43-bcdd-c8893be306fd",
   "metadata": {
    "tags": []
   },
   "outputs": [],
   "source": [
    "from pathlib import Path\n",
    "\n",
    "import numpy as np\n",
    "import pandas as pd\n",
    "import pulp\n",
    "import spopt\n",
    "from spopt.locate import PMedian\n",
    "\n",
    "from scripts import create_allocation_map"
   ]
  },
  {
   "cell_type": "markdown",
   "id": "92d742fa",
   "metadata": {},
   "source": [
    "### Import data"
   ]
  },
  {
   "cell_type": "code",
   "execution_count": null,
   "id": "9e998710",
   "metadata": {
    "tags": []
   },
   "outputs": [],
   "source": [
    "_file_location = Path().resolve()"
   ]
  },
  {
   "cell_type": "code",
   "execution_count": null,
   "id": "65b9997a-00b2-451d-9e28-e41260c96b14",
   "metadata": {
    "tags": []
   },
   "outputs": [],
   "source": [
    "students_df = pd.read_csv(_file_location / \"data\" / \"example_subject_students.csv\")\n",
    "schools_df = pd.read_csv(_file_location / \"data\" / \"example_subject_schools.csv\")"
   ]
  },
  {
   "cell_type": "markdown",
   "id": "707b37e2",
   "metadata": {},
   "source": [
    "Do pre-processing from <https://github.com/UCL/ioe-student-school-allocation/>.\n",
    "\n",
    "By default, this can be skipped, and you can read in the provided example data (`data/example_subject_student_school_journeys.csv`). \n",
    "\n",
    "If you are using a Juypter Notebook, remember to run the install code in the terminal in the Juypter Notebook environment. \n",
    "\n",
    "Install using `pip`:\n",
    "\n",
    "```python\n",
    "python -m pip install --upgrade pip\n",
    "python -m pip install -e .\n",
    "```\n",
    "\n",
    "You will also need to add a TfL API key, available from \n",
    "<https://api-portal.tfl.gov.uk/>. It is set in `.envrc_sample` `export TFL_APP_KEY=`\n",
    "\n",
    "What you should do is \n",
    "```sh\n",
    "cp .envrc_sample .envrc\n",
    "```\n",
    "Then put in the key. Then run\n",
    "```sh\n",
    "source .envrc\n",
    "```\n",
    "Then re-run. You can check if it’s worked by running\n",
    "`echo $TFL_APP_KEY`. \n",
    "\n",
    "Use the same approach to add in `OPENROUTESERVICE_API_KEY`, from https://openrouteservice.org/. \n",
    "\n",
    "For this example, we then also need to remove the `OPENROUTESERVICE_BASE_URL` by running\n",
    "`unset OPENROUTESERVICE_BASE_URL`\n",
    "and set the number of cores by running:\n",
    "`export N_CORES=1`.\n",
    "\n",
    "Run using\n",
    "```sh\n",
    "tfl example_subject\n",
    "```\n",
    "\n",
    "Running time\n",
    "- 25 min on 1 core for 10 students, 70 schools, 3 failures\n",
    "- 14 min on 4 cores for 20 students, 70 schools\n",
    "- 12 min on 8 cores for 20 students, 70 schools, 10 failures\n",
    "- 6 min on 16 cores for 19 students, 70 schools, 2 failures"
   ]
  },
  {
   "cell_type": "markdown",
   "id": "d1322f12-ddb5-4dd5-ada4-b0a1b7e35067",
   "metadata": {},
   "source": [
    "If this works, it will create a file `data/example_subject_student_school_journeys.csv`. If it doesn't work, you can use the sample data available in the same location. "
   ]
  },
  {
   "cell_type": "markdown",
   "id": "090014c5",
   "metadata": {},
   "source": [
    "### Read in journy data"
   ]
  },
  {
   "cell_type": "code",
   "execution_count": null,
   "id": "b8483ea4-2d5c-4129-a87f-82378875f59d",
   "metadata": {
    "tags": []
   },
   "outputs": [],
   "source": [
    "example_subject_time = pd.read_csv(\n",
    "    _file_location / \"data\" / \"example_subject_student_school_journeys.csv\"\n",
    ")"
   ]
  },
  {
   "cell_type": "markdown",
   "id": "1cbfd3e1",
   "metadata": {},
   "source": [
    "A large value to fix optimisation"
   ]
  },
  {
   "cell_type": "code",
   "execution_count": null,
   "id": "5562099f",
   "metadata": {
    "tags": []
   },
   "outputs": [],
   "source": [
    "LARGE_VALUE_PLACEHOLDER = 10_000"
   ]
  },
  {
   "cell_type": "markdown",
   "id": "3391dc1f",
   "metadata": {},
   "source": [
    "Create pivot table from data"
   ]
  },
  {
   "cell_type": "code",
   "execution_count": null,
   "id": "56f2a9e3-d517-43ea-88ed-f2d7a014863c",
   "metadata": {
    "tags": []
   },
   "outputs": [],
   "source": [
    "example_subject_time_table = (\n",
    "    example_subject_time.pivot_table(\n",
    "        columns=\"school\",\n",
    "        fill_value=LARGE_VALUE_PLACEHOLDER,\n",
    "        index=\"student\",\n",
    "        sort=False,\n",
    "        values=\"time\",\n",
    "    )\n",
    "    .astype(int)\n",
    "    .values\n",
    ")"
   ]
  },
  {
   "cell_type": "code",
   "execution_count": null,
   "id": "3f70df78",
   "metadata": {
    "tags": []
   },
   "outputs": [],
   "source": [
    "print(example_subject_time_table)"
   ]
  },
  {
   "cell_type": "markdown",
   "id": "d9d04dd6",
   "metadata": {},
   "source": [
    "Clean data for the model\n",
    "\n",
    "Define the function to clean school and student dataframe\n",
    "to only keep the students and schools which have successful journeys"
   ]
  },
  {
   "cell_type": "code",
   "execution_count": null,
   "id": "37c4eb89-baba-4f82-b924-5725b210f45d",
   "metadata": {
    "tags": []
   },
   "outputs": [],
   "source": [
    "def data_clean(\n",
    "    df: pd.DataFrame, id_col: str, time_col: str, time: pd.DataFrame\n",
    ") -> pd.DataFrame:\n",
    "    ids_to_remove = set(df[id_col]) - set(time[time_col])\n",
    "    mask = ~df[id_col].isin(ids_to_remove)\n",
    "    return df[mask].reset_index().drop(\"index\", axis=1)"
   ]
  },
  {
   "cell_type": "code",
   "execution_count": null,
   "id": "8931c01a",
   "metadata": {
    "tags": []
   },
   "outputs": [],
   "source": [
    "schools_df_clean = data_clean(\n",
    "    schools_df, \"SE2 PP: Code\", \"school\", example_subject_time\n",
    ")\n",
    "students_df_clean = data_clean(students_df, \"ST: ID\", \"student\", example_subject_time)"
   ]
  },
  {
   "cell_type": "markdown",
   "id": "9b283468",
   "metadata": {},
   "source": [
    "Check if data is okay"
   ]
  },
  {
   "cell_type": "code",
   "execution_count": null,
   "id": "9b94ead3-f805-41d9-bd1a-6ba56f6ca59d",
   "metadata": {
    "tags": []
   },
   "outputs": [],
   "source": [
    "assert len(schools_df_clean) == len(example_subject_time_table[0])\n",
    "assert len(students_df_clean) == len(example_subject_time_table)"
   ]
  },
  {
   "cell_type": "markdown",
   "id": "6d446fd9-d6a2-4e22-a07f-796031a98242",
   "metadata": {},
   "source": [
    "`spopt` version. Currently (as at 06/06/2023) the new code developed for `spopt` is not integrated in to the main `spopt` version. There is currently a PR in progress for this at https://github.com/pysal/spopt/pull/374. "
   ]
  },
  {
   "cell_type": "markdown",
   "id": "c92d0631",
   "metadata": {},
   "source": [
    "The version we need to use should be `0.1.dev975+g1e3c727` or similar (the `0.1.dev` bit is key)."
   ]
  },
  {
   "cell_type": "code",
   "execution_count": null,
   "id": "50830fda-e147-4179-9c5b-30497c63617d",
   "metadata": {
    "tags": []
   },
   "outputs": [],
   "source": [
    "print(spopt.__version__)"
   ]
  },
  {
   "cell_type": "markdown",
   "id": "a4cf8413-3690-4d60-830f-e3fabae619a9",
   "metadata": {},
   "source": [
    "If the above reports `0.5.0` then this is the main `spopt` package without the new capacitated p-median options. In this case you need to install the new version manually using:\n",
    "`python3 -m pip install spopt@git+https://github.com/rongboxu/spopt`\n",
    "If you are running this a Juypter notebook, remember to run this in the terminal inside the correct environemnt / notebook, and then restart the Kernel"
   ]
  },
  {
   "cell_type": "markdown",
   "id": "de467a74",
   "metadata": {},
   "source": [
    "Data preparing\n",
    "\n",
    "a. set the amount of each demand point: in IOE case, it is 1."
   ]
  },
  {
   "cell_type": "code",
   "execution_count": null,
   "id": "4cec0075-19b6-41e2-a139-a06f704259e5",
   "metadata": {
    "tags": []
   },
   "outputs": [],
   "source": [
    "demand = np.ones(len(students_df_clean))"
   ]
  },
  {
   "cell_type": "markdown",
   "id": "38233c21",
   "metadata": {},
   "source": [
    "b. Pick out predefined facilities: priority 1 schools\n",
    "please notice that the column name of priority can vary, for maths it's 'MAT priority' etc."
   ]
  },
  {
   "cell_type": "code",
   "execution_count": null,
   "id": "3de7871f",
   "metadata": {
    "tags": []
   },
   "outputs": [],
   "source": [
    "schools_priority_1 = schools_df_clean[\n",
    "    schools_df_clean[\"MAT priority\"] == 1\n",
    "].index.tolist()\n",
    "schools_priority_1_arr = np.array(schools_priority_1)"
   ]
  },
  {
   "cell_type": "markdown",
   "id": "f8ae0f73",
   "metadata": {},
   "source": [
    "c. set the facility capacities"
   ]
  },
  {
   "cell_type": "code",
   "execution_count": null,
   "id": "7ec5f134",
   "metadata": {
    "tags": []
   },
   "outputs": [],
   "source": [
    "capacities_arr = np.array(schools_df_clean[\"Count\"])"
   ]
  },
  {
   "cell_type": "markdown",
   "id": "00c69b87",
   "metadata": {},
   "source": [
    "Run the model\n",
    "\n",
    "\n",
    "If you get this error:\n",
    ">Problem is infeasible. The predefined facilities can't be \n",
    ">fulfilled, because their capacity is larger than the total \n",
    ">demand 10.0.\n",
    "This is because you have more priority schools (priority = 1 or 2? need to check)\n",
    "than you do students who need placements. You need more schools, or fewer students. \n",
    "                        \n",
    "The `fulfill_predefined_fac` must be true, it is used to guarantee priority 1\n",
    "schools will be fulfilled"
   ]
  },
  {
   "cell_type": "code",
   "execution_count": null,
   "id": "4dc450d0-ea6a-4c80-9c8a-075940bf9851",
   "metadata": {
    "tags": []
   },
   "outputs": [],
   "source": [
    "#solver = pulp.PULP_CBC_CMD()\n",
    "solver = pulp.COIN_CMD()\n",
    "pmedian_from_cost_matrix = PMedian.from_cost_matrix(\n",
    "    example_subject_time_table,\n",
    "    demand,\n",
    "    p_facilities=len(students_df_clean),\n",
    "    predefined_facilities_arr=schools_priority_1_arr,\n",
    "    facility_capacities=capacities_arr,\n",
    "    fulfill_predefined_fac=True,\n",
    ")\n",
    "pmedian_from_cost_matrix = pmedian_from_cost_matrix.solve(solver)"
   ]
  },
  {
   "cell_type": "markdown",
   "id": "7df04215-89d8-4f1e-9e41-4a4b634e0ff7",
   "metadata": {},
   "source": [
    "There are a choice of solvers that can be used. PULP (`solver = pulp.PULP_CBC_CMD()`) is the default, but an alternative is COIN (`solver = pulp.COIN_CMD()`). Comment line 1 of this code in or out as needed. "
   ]
  },
  {
   "cell_type": "markdown",
   "id": "6dea3139",
   "metadata": {},
   "source": [
    "Save the match result"
   ]
  },
  {
   "cell_type": "code",
   "execution_count": null,
   "id": "21283b43-404f-4170-9086-b8867225ba9b",
   "metadata": {
    "tags": []
   },
   "outputs": [],
   "source": [
    "match_df = students_df_clean\n",
    "\n",
    "for i in range(len(students_df_clean)):\n",
    "    school_index = pmedian_from_cost_matrix.cli2fac[i]\n",
    "    match_df.loc[i, \"allocation_school_id\"] = schools_df_clean.loc[\n",
    "        school_index[0], \"SE2 PP: Code\"\n",
    "    ]"
   ]
  },
  {
   "cell_type": "code",
   "execution_count": null,
   "id": "b92f10f0",
   "metadata": {
    "tags": []
   },
   "outputs": [],
   "source": [
    "match_df.to_csv(_file_location / \"data\" / \"example_subject_matches.csv\")"
   ]
  },
  {
   "cell_type": "markdown",
   "id": "263894bd",
   "metadata": {},
   "source": [
    "Run the map creation py document"
   ]
  },
  {
   "cell_type": "code",
   "execution_count": null,
   "id": "8eb085f1",
   "metadata": {
    "tags": []
   },
   "outputs": [],
   "source": [
    "create_allocation_map.main(\"example_subject\")"
   ]
  },
  {
   "cell_type": "code",
   "execution_count": null,
   "id": "8ca19220-4957-4d12-85e9-63198042bccd",
   "metadata": {},
   "outputs": [],
   "source": []
  }
 ],
 "metadata": {
  "interpreter": {
   "hash": "40d3a090f54c6569ab1632332b64b2c03c39dcf918b08424e98f38b5ae0af88f"
  },
  "kernelspec": {
   "display_name": "Python 3 (ipykernel)",
   "language": "python",
   "name": "python3"
  },
  "language_info": {
   "codemirror_mode": {
    "name": "ipython",
    "version": 3
   },
   "file_extension": ".py",
   "mimetype": "text/x-python",
   "name": "python",
   "nbconvert_exporter": "python",
   "pygments_lexer": "ipython3",
   "version": "3.10.10"
  }
 },
 "nbformat": 4,
 "nbformat_minor": 5
}
