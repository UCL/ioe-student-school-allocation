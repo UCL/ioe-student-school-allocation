{
 "cells": [
  {
   "cell_type": "code",
   "execution_count": 1,
   "id": "9e4b1613-1d19-4a43-bcdd-c8893be306fd",
   "metadata": {
    "tags": []
   },
   "outputs": [],
   "source": [
    "# 1. import packages\n",
    "\n",
    "import pandas as pd\n",
    "import numpy as np\n",
    "from pulp import *"
   ]
  },
  {
   "cell_type": "code",
   "execution_count": 2,
   "id": "65b9997a-00b2-451d-9e28-e41260c96b14",
   "metadata": {
    "tags": []
   },
   "outputs": [],
   "source": [
    "# import data\n",
    "students_df = pd.read_csv('data/example_subject_students.csv')\n",
    "schools_df = pd.read_csv('data/example_subject_schools.csv')\n"
   ]
  },
  {
   "cell_type": "code",
   "execution_count": null,
   "id": "63eaff5b-897d-412b-9bed-ca06c523aa9b",
   "metadata": {},
   "outputs": [],
   "source": [
    "# do pre-processing\n",
    "# from https://github.com/UCL/ioe-student-school-allocation\n",
    "\n"
   ]
  },
  {
   "cell_type": "code",
   "execution_count": null,
   "id": "ab55db25-9e4f-4a3f-afae-6c71b09107d9",
   "metadata": {},
   "outputs": [],
   "source": [
    "# use spopt code\n",
    "# Remember currently we need to use the version with the developments Rongbo has included\n",
    "# it has not been included in the main spopt package yet\n",
    "# To install the package you can do: `python -m pip install spopt@git+https://github.com/rongboxu/spopt`."
   ]
  }
 ],
 "metadata": {
  "kernelspec": {
   "display_name": "Python 3 (ipykernel)",
   "language": "python",
   "name": "python3"
  },
  "language_info": {
   "codemirror_mode": {
    "name": "ipython",
    "version": 3
   },
   "file_extension": ".py",
   "mimetype": "text/x-python",
   "name": "python",
   "nbconvert_exporter": "python",
   "pygments_lexer": "ipython3",
   "version": "3.10.10"
  }
 },
 "nbformat": 4,
 "nbformat_minor": 5
}
