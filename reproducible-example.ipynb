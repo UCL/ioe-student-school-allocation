{
 "cells": [
  {
   "attachments": {},
   "cell_type": "markdown",
   "id": "109a941f",
   "metadata": {},
   "source": [
    "Import packages"
   ]
  },
  {
   "cell_type": "code",
   "execution_count": null,
   "id": "9e4b1613-1d19-4a43-bcdd-c8893be306fd",
   "metadata": {
    "tags": []
   },
   "outputs": [],
   "source": [
    "from pathlib import Path\n",
    "\n",
    "import numpy as np\n",
    "import pandas as pd\n",
    "import pulp\n",
    "import spopt\n",
    "from spopt.locate import PMedian\n",
    "\n",
    "from scripts import create_allocation_map"
   ]
  },
  {
   "attachments": {},
   "cell_type": "markdown",
   "id": "92d742fa",
   "metadata": {},
   "source": [
    "Import data"
   ]
  },
  {
   "cell_type": "code",
   "execution_count": null,
   "id": "9e998710",
   "metadata": {},
   "outputs": [],
   "source": [
    "_file_location = Path().resolve()"
   ]
  },
  {
   "cell_type": "code",
   "execution_count": null,
   "id": "65b9997a-00b2-451d-9e28-e41260c96b14",
   "metadata": {
    "tags": []
   },
   "outputs": [],
   "source": [
    "students_df = pd.read_csv(_file_location / \"data\" / \"example_subject_students.csv\")\n",
    "schools_df = pd.read_csv(_file_location / \"data\" / \"example_subject_schools.csv\")"
   ]
  },
  {
   "attachments": {},
   "cell_type": "markdown",
   "id": "707b37e2",
   "metadata": {},
   "source": [
    "Do pre-processing from <https://github.com/UCL/ioe-student-school-allocation/>.\n",
    "Install using `pip`:\n",
    "```python\n",
    "python -m pip install --upgrade pip\n",
    "python -m pip install -e .\n",
    "```\n",
    "\n",
    "You will also need to add a TfL API key, available from \n",
    "<https://api-portal.tfl.gov.uk/>. It is set in `.envrc_sample` `export TFL_APP_KEY=`\n",
    "What you should do is \n",
    "```sh\n",
    "cp .envrc_sample .envrc\n",
    "```\n",
    "Then put in the key. Then run\n",
    "```sh\n",
    "source .envrc\n",
    "```\n",
    "Then re-run. You can check if it’s worked by running\n",
    "`echo $TFL_APP_KEY`, and `export N_CORES=1`.\n",
    "\n",
    "Run using\n",
    "```sh\n",
    "tfl data example_subject\n",
    "```\n",
    "\n",
    "Running time\n",
    "- 25 min on 1 core for 10 students, 70 schools, 3 failures\n",
    "- 14 min on 4 cores for 20 students, 70 schools\n",
    "- 12 min on 8 cores for 20 students, 70 schools, 10 failures\n",
    "- 6 min on 16 cores for 19 students, 70 schools, 2 failures"
   ]
  },
  {
   "attachments": {},
   "cell_type": "markdown",
   "id": "090014c5",
   "metadata": {},
   "source": [
    "Read in sample data"
   ]
  },
  {
   "cell_type": "code",
   "execution_count": null,
   "id": "b8483ea4-2d5c-4129-a87f-82378875f59d",
   "metadata": {
    "tags": []
   },
   "outputs": [],
   "source": [
    "example_subject_time = pd.read_csv(\n",
    "    _file_location / \"data\" / \"example_subject_student_school_journeys.csv\"\n",
    ")"
   ]
  },
  {
   "attachments": {},
   "cell_type": "markdown",
   "id": "1cbfd3e1",
   "metadata": {},
   "source": [
    "A large value to fix optimisation"
   ]
  },
  {
   "cell_type": "code",
   "execution_count": null,
   "id": "5562099f",
   "metadata": {},
   "outputs": [],
   "source": [
    "LARGE_VALUE_PLACEHOLDER = 10_000"
   ]
  },
  {
   "attachments": {},
   "cell_type": "markdown",
   "id": "3391dc1f",
   "metadata": {},
   "source": [
    "Create pivot table from data"
   ]
  },
  {
   "cell_type": "code",
   "execution_count": null,
   "id": "56f2a9e3-d517-43ea-88ed-f2d7a014863c",
   "metadata": {
    "tags": []
   },
   "outputs": [],
   "source": [
    "example_subject_time_table = (\n",
    "    example_subject_time.pivot_table(\n",
    "        columns=\"school\",\n",
    "        fill_value=LARGE_VALUE_PLACEHOLDER,\n",
    "        index=\"student\",\n",
    "        sort=False,\n",
    "        values=\"time\",\n",
    "    )\n",
    "    .astype(int)\n",
    "    .values\n",
    ")"
   ]
  },
  {
   "cell_type": "code",
   "execution_count": null,
   "id": "3f70df78",
   "metadata": {},
   "outputs": [],
   "source": [
    "print(example_subject_time_table)"
   ]
  },
  {
   "attachments": {},
   "cell_type": "markdown",
   "id": "d9d04dd6",
   "metadata": {},
   "source": [
    "Clean data for the model\n",
    "\n",
    "Define the function to clean school and student dataframe\n",
    "to only keep the students and schools which have successful journeys"
   ]
  },
  {
   "cell_type": "code",
   "execution_count": null,
   "id": "37c4eb89-baba-4f82-b924-5725b210f45d",
   "metadata": {
    "tags": []
   },
   "outputs": [],
   "source": [
    "def data_clean(\n",
    "    df: pd.DataFrame, id_col: str, time_col: str, time: pd.DataFrame\n",
    ") -> pd.DataFrame:\n",
    "    ids_to_remove = set(df[id_col]) - set(time[time_col])\n",
    "    mask = ~df[id_col].isin(ids_to_remove)\n",
    "    return df[mask].reset_index().drop(\"index\", axis=1)"
   ]
  },
  {
   "cell_type": "code",
   "execution_count": null,
   "id": "8931c01a",
   "metadata": {},
   "outputs": [],
   "source": [
    "schools_df_clean = data_clean(\n",
    "    schools_df, \"SE2 PP: Code\", \"school\", example_subject_time\n",
    ")\n",
    "students_df_clean = data_clean(students_df, \"ST: ID\", \"student\", example_subject_time)"
   ]
  },
  {
   "attachments": {},
   "cell_type": "markdown",
   "id": "9b283468",
   "metadata": {},
   "source": [
    "Check if data is okay"
   ]
  },
  {
   "cell_type": "code",
   "execution_count": null,
   "id": "9b94ead3-f805-41d9-bd1a-6ba56f6ca59d",
   "metadata": {
    "tags": []
   },
   "outputs": [],
   "source": [
    "assert len(schools_df_clean) == len(example_subject_time_table[0])\n",
    "assert len(students_df_clean) == len(example_subject_time_table)"
   ]
  },
  {
   "attachments": {},
   "cell_type": "markdown",
   "id": "c92d0631",
   "metadata": {},
   "source": [
    "The version should be `0.1.dev971+gbc75cde` or similar"
   ]
  },
  {
   "cell_type": "code",
   "execution_count": null,
   "id": "50830fda-e147-4179-9c5b-30497c63617d",
   "metadata": {
    "tags": []
   },
   "outputs": [],
   "source": [
    "print(spopt.__version__)"
   ]
  },
  {
   "attachments": {},
   "cell_type": "markdown",
   "id": "de467a74",
   "metadata": {},
   "source": [
    "Data preparing\n",
    "\n",
    "a. set the amount of each demand point: in IOE case, it is 1."
   ]
  },
  {
   "cell_type": "code",
   "execution_count": null,
   "id": "4cec0075-19b6-41e2-a139-a06f704259e5",
   "metadata": {
    "tags": []
   },
   "outputs": [],
   "source": [
    "demand = np.ones(len(students_df_clean))"
   ]
  },
  {
   "attachments": {},
   "cell_type": "markdown",
   "id": "38233c21",
   "metadata": {},
   "source": [
    "b. Pick out predefined facilities: priority 1 schools\n",
    "please notice that the column name of priority can vary, for maths it's 'MAT priority' etc."
   ]
  },
  {
   "cell_type": "code",
   "execution_count": null,
   "id": "3de7871f",
   "metadata": {},
   "outputs": [],
   "source": [
    "schools_priority_1 = schools_df_clean[\n",
    "    schools_df_clean[\"MAT priority\"] == 1\n",
    "].index.tolist()\n",
    "schools_priority_1_arr = np.array(schools_priority_1)"
   ]
  },
  {
   "attachments": {},
   "cell_type": "markdown",
   "id": "f8ae0f73",
   "metadata": {},
   "source": [
    "c. set the facility capacities"
   ]
  },
  {
   "cell_type": "code",
   "execution_count": null,
   "id": "7ec5f134",
   "metadata": {},
   "outputs": [],
   "source": [
    "capacities_arr = np.array(schools_df_clean[\"Count\"])"
   ]
  },
  {
   "attachments": {},
   "cell_type": "markdown",
   "id": "00c69b87",
   "metadata": {},
   "source": [
    "Run the model\n",
    "\n",
    "\n",
    "If you get this error:\n",
    ">Problem is infeasible. The predefined facilities can't be \n",
    ">fulfilled, because their capacity is larger than the total \n",
    ">demand 10.0.\n",
    "This is because you have more priority schools (priority = 1 or 2? need to check)\n",
    "than you do students who need placements. You need more schools, or fewer students. \n",
    "                        \n",
    "The `fulfill_predefined_fac` must be true, it is used to guarantee priority 1\n",
    "schools will be fulfilled"
   ]
  },
  {
   "cell_type": "code",
   "execution_count": null,
   "id": "4dc450d0-ea6a-4c80-9c8a-075940bf9851",
   "metadata": {
    "tags": []
   },
   "outputs": [],
   "source": [
    "solver = pulp.PULP_CBC_CMD()\n",
    "pmedian_from_cost_matrix = PMedian.from_cost_matrix(\n",
    "    example_subject_time_table,\n",
    "    demand,\n",
    "    p_facilities=len(students_df_clean),\n",
    "    predefined_facilities_arr=schools_priority_1_arr,\n",
    "    facility_capacities=capacities_arr,\n",
    "    fulfill_predefined_fac=True,\n",
    ")\n",
    "pmedian_from_cost_matrix = pmedian_from_cost_matrix.solve(solver)"
   ]
  },
  {
   "attachments": {},
   "cell_type": "markdown",
   "id": "6dea3139",
   "metadata": {},
   "source": [
    "Save the match result"
   ]
  },
  {
   "cell_type": "code",
   "execution_count": null,
   "id": "21283b43-404f-4170-9086-b8867225ba9b",
   "metadata": {},
   "outputs": [],
   "source": [
    "match_df = students_df_clean\n",
    "\n",
    "for i in range(len(students_df_clean)):\n",
    "    school_index = pmedian_from_cost_matrix.cli2fac[i]\n",
    "    match_df.loc[i, \"allocation_school_id\"] = schools_df_clean.loc[\n",
    "        school_index[0], \"SE2 PP: Code\"\n",
    "    ]"
   ]
  },
  {
   "cell_type": "code",
   "execution_count": null,
   "id": "b92f10f0",
   "metadata": {},
   "outputs": [],
   "source": [
    "match_df.to_csv(_file_location / \"data\" / \"example_subject_matches.csv\")"
   ]
  },
  {
   "attachments": {},
   "cell_type": "markdown",
   "id": "263894bd",
   "metadata": {},
   "source": [
    "Run the map creation py document"
   ]
  },
  {
   "cell_type": "code",
   "execution_count": null,
   "id": "8eb085f1",
   "metadata": {},
   "outputs": [],
   "source": [
    "create_allocation_map.main(\"example_subject\")"
   ]
  }
 ],
 "metadata": {
  "interpreter": {
   "hash": "40d3a090f54c6569ab1632332b64b2c03c39dcf918b08424e98f38b5ae0af88f"
  },
  "kernelspec": {
   "display_name": "Python 3.8.3 ('base')",
   "language": "python",
   "name": "python3"
  },
  "language_info": {
   "codemirror_mode": {
    "name": "ipython",
    "version": 3
   },
   "file_extension": ".py",
   "mimetype": "text/x-python",
   "name": "python",
   "nbconvert_exporter": "python",
   "pygments_lexer": "ipython3",
   "version": "3.11.3"
  }
 },
 "nbformat": 4,
 "nbformat_minor": 5
}
